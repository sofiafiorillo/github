{
    "cells": [
        {
            "metadata": {
                "collapsed": true
            },
            "cell_type": "markdown",
            "source": "# *Introduction/Business Problem*\n## Background\n        \n\nA description of the problem and a discussion of the background. (15 marks)\nA description of the data and how it will be used to solve the problem. (15 marks)"
        },
        {
            "metadata": {},
            "cell_type": "markdown",
            "source": "Although not the capital of Canada, Toronto is a very recognized and important city in the country. In fact, according to Economist Intelligence Unit \u2013 Global Liveability Index 2019 it is considered one of the best cities to live in the world, a statement that has been made by several other rankings thoughout the years. It attracts investment due to its projected future prosperity, being part of one of the world's wealthiest countries. This is also makes the city to have a very competitive environment, so deciding where to establish a new business venture must be a carefully thought and studied decision. "
        },
        {
            "metadata": {},
            "cell_type": "markdown",
            "source": " \n![alt text](https://s3.amazonaws.com/btoimage/prism-thumbnails/articles/2017811-commuters-toronto.jpg-resize_then_crop-_frame_bg_color_FFF-h_1365-gravity_center-q_70-preserve_ratio_true-w_2048_.webp)"
        },
        {
            "metadata": {},
            "cell_type": "markdown",
            "source": "## Problem Description"
        },
        {
            "metadata": {},
            "cell_type": "markdown",
            "source": "A new grocery retailer wants to enter the market and is examining where to set its starting location. This strategic decision is very important since it will influence the success of the business and the first mover advantage is critical for them. Thus the initial success will help to accomplish the goal of the retailer which is to open at 3 more locations during the next 2 years. To solve this problem, the Neighborhoods of Toronto are going to be analyzed by Data Scientists in order to make a recommendation to the managers of the best locations to start. The ideal location would not have many grocery stores (less competitions) and be on a residential area (to attract possible customers easily).  The managers need to understand the reasoning behind this recommendation in a well explained report.  "
        }
    ],
    "metadata": {
        "kernelspec": {
            "name": "python3",
            "display_name": "Python 3.6",
            "language": "python"
        },
        "language_info": {
            "name": "python",
            "version": "3.6.9",
            "mimetype": "text/x-python",
            "codemirror_mode": {
                "name": "ipython",
                "version": 3
            },
            "pygments_lexer": "ipython3",
            "nbconvert_exporter": "python",
            "file_extension": ".py"
        }
    },
    "nbformat": 4,
    "nbformat_minor": 1
}